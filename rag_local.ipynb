{
 "cells": [
  {
   "cell_type": "markdown",
   "id": "33883fe5-f01d-49cb-9040-d94365b10eda",
   "metadata": {},
   "source": [
    "# RAG\n",
    "\n",
    "首先加载本地模型"
   ]
  },
  {
   "cell_type": "code",
   "execution_count": 1,
   "id": "034805a7-d492-4382-841f-f9aee2d777be",
   "metadata": {},
   "outputs": [
    {
     "name": "stdin",
     "output_type": "stream",
     "text": [
      "The repository for /home/workspace_langchain/medical-chatbot-main/medical-chatbot contains custom code which must be executed to correctly load the model. You can inspect the repository content at https://hf.co//home/workspace_langchain/medical-chatbot-main/medical-chatbot.\n",
      "You can avoid this prompt in future by passing the argument `trust_remote_code=True`.\n",
      "\n",
      "Do you wish to run the custom code? [y/N]  y\n",
      "The repository for /home/workspace_langchain/medical-chatbot-main/medical-chatbot contains custom code which must be executed to correctly load the model. You can inspect the repository content at https://hf.co//home/workspace_langchain/medical-chatbot-main/medical-chatbot.\n",
      "You can avoid this prompt in future by passing the argument `trust_remote_code=True`.\n",
      "\n",
      "Do you wish to run the custom code? [y/N]  y\n"
     ]
    },
    {
     "name": "stderr",
     "output_type": "stream",
     "text": [
      "The `load_in_4bit` and `load_in_8bit` arguments are deprecated and will be removed in the future versions. Please, pass a `BitsAndBytesConfig` object in `quantization_config` argument instead.\n"
     ]
    },
    {
     "data": {
      "application/vnd.jupyter.widget-view+json": {
       "model_id": "b84480cc9e1a4e4faa2aa12c6cdd4f54",
       "version_major": 2,
       "version_minor": 0
      },
      "text/plain": [
       "Loading checkpoint shards:   0%|          | 0/15 [00:00<?, ?it/s]"
      ]
     },
     "metadata": {},
     "output_type": "display_data"
    },
    {
     "name": "stderr",
     "output_type": "stream",
     "text": [
      "The model 'ChatGLMForConditionalGeneration' is not supported for text-generation. Supported models are ['BartForCausalLM', 'BertLMHeadModel', 'BertGenerationDecoder', 'BigBirdForCausalLM', 'BigBirdPegasusForCausalLM', 'BioGptForCausalLM', 'BlenderbotForCausalLM', 'BlenderbotSmallForCausalLM', 'BloomForCausalLM', 'CamembertForCausalLM', 'LlamaForCausalLM', 'CodeGenForCausalLM', 'CohereForCausalLM', 'CpmAntForCausalLM', 'CTRLLMHeadModel', 'Data2VecTextForCausalLM', 'DbrxForCausalLM', 'ElectraForCausalLM', 'ErnieForCausalLM', 'FalconForCausalLM', 'FuyuForCausalLM', 'GemmaForCausalLM', 'GitForCausalLM', 'GPT2LMHeadModel', 'GPT2LMHeadModel', 'GPTBigCodeForCausalLM', 'GPTNeoForCausalLM', 'GPTNeoXForCausalLM', 'GPTNeoXJapaneseForCausalLM', 'GPTJForCausalLM', 'JambaForCausalLM', 'JetMoeForCausalLM', 'LlamaForCausalLM', 'MambaForCausalLM', 'MarianForCausalLM', 'MBartForCausalLM', 'MegaForCausalLM', 'MegatronBertForCausalLM', 'MistralForCausalLM', 'MixtralForCausalLM', 'MptForCausalLM', 'MusicgenForCausalLM', 'MusicgenMelodyForCausalLM', 'MvpForCausalLM', 'OlmoForCausalLM', 'OpenLlamaForCausalLM', 'OpenAIGPTLMHeadModel', 'OPTForCausalLM', 'PegasusForCausalLM', 'PersimmonForCausalLM', 'PhiForCausalLM', 'Phi3ForCausalLM', 'PLBartForCausalLM', 'ProphetNetForCausalLM', 'QDQBertLMHeadModel', 'Qwen2ForCausalLM', 'Qwen2MoeForCausalLM', 'RecurrentGemmaForCausalLM', 'ReformerModelWithLMHead', 'RemBertForCausalLM', 'RobertaForCausalLM', 'RobertaPreLayerNormForCausalLM', 'RoCBertForCausalLM', 'RoFormerForCausalLM', 'RwkvForCausalLM', 'Speech2Text2ForCausalLM', 'StableLmForCausalLM', 'Starcoder2ForCausalLM', 'TransfoXLLMHeadModel', 'TrOCRForCausalLM', 'WhisperForCausalLM', 'XGLMForCausalLM', 'XLMWithLMHeadModel', 'XLMProphetNetForCausalLM', 'XLMRobertaForCausalLM', 'XLMRobertaXLForCausalLM', 'XLNetLMHeadModel', 'XmodForCausalLM'].\n",
      "/usr/local/lib/python3.8/dist-packages/langchain_core/_api/deprecation.py:119: LangChainDeprecationWarning: The class `HuggingFacePipeline` was deprecated in LangChain 0.0.37 and will be removed in 0.3. An updated version of the class exists in the from rom langchain-huggingface package and should be used instead. To use it run `pip install -U from rom langchain-huggingface` and import as `from from rom langchain_huggingface import llms import HuggingFacePipeline`.\n",
      "  warn_deprecated(\n"
     ]
    }
   ],
   "source": [
    "from transformers import AutoTokenizer, AutoModelForCausalLM, pipeline\n",
    "from langchain import LLMChain,HuggingFacePipeline,PromptTemplate\n",
    "import torch\n",
    "model_path = \"/home/workspace_langchain/medical-chatbot-main/medical-chatbot\"\n",
    "# load model from huggingface，load因果语言类大模型的时候就用这个函数 AutoModelForCausalLM\n",
    "model = AutoModelForCausalLM.from_pretrained(\n",
    "        model_path,\n",
    "        load_in_4bit=True,\n",
    "        torch_dtype=torch.float16,\n",
    "        device_map='auto'\n",
    ")\n",
    "\n",
    "tokenizer = AutoTokenizer.from_pretrained(model_path, trust_remote_code=True)\n",
    "\n",
    "from transformers import pipeline\n",
    "\n",
    "# 构建 transformer 的 pipeline\n",
    "pipe = pipeline(\n",
    "    \"text-generation\",  # 名称\n",
    "    model=model,  # 模型\n",
    "    torch_dtype=torch.bfloat16,  # 模型加载方式\n",
    "    device_map='auto',\n",
    "    max_new_tokens=512,  # 最大token\n",
    "    do_sample=True,\n",
    "    top_k=30,\n",
    "    num_return_sequences=1,\n",
    "    tokenizer=tokenizer,\n",
    "    eos_token_id=tokenizer.eos_token_id\n",
    ")\n",
    "\n",
    "llm = HuggingFacePipeline(pipeline=pipe, model_kwargs={'temperature': 0})"
   ]
  },
  {
   "cell_type": "code",
   "execution_count": 2,
   "id": "6820e9d2-e571-4960-9579-11c4ae242c00",
   "metadata": {},
   "outputs": [],
   "source": [
    "from langchain_community.document_loaders import TextLoader # 文本加载器\n",
    "from langchain.text_splitter import CharacterTextSplitter # 文本分块器\n",
    "from langchain_community.embeddings import OllamaEmbeddings # Ollama向量嵌入器\n",
    "import weaviate # 向量数据库\n",
    "from weaviate.embedded import EmbeddedOptions # 向量嵌入选项\n",
    "from langchain.prompts import ChatPromptTemplate # 聊天提示模板\n",
    "from langchain_community.chat_models import ChatOllama # ChatOllma聊天模型\n",
    "from langchain.schema.runnable import RunnablePassthrough\n",
    "from langchain.schema.output_parser import StrOutputParser # 输出解析器\n",
    "from langchain_community.vectorstores import Weaviate # 向量数据库\n",
    "import requests"
   ]
  },
  {
   "cell_type": "markdown",
   "id": "a1bcb916-ed4f-44c4-9ac3-162cfecead3f",
   "metadata": {},
   "source": [
    "# 加载不同的数据"
   ]
  },
  {
   "cell_type": "code",
   "execution_count": 3,
   "id": "b4b69d09-ed78-4137-9a49-b7947dc77c6c",
   "metadata": {},
   "outputs": [],
   "source": [
    "from langchain_community.document_loaders.csv_loader import CSVLoader\n",
    "from langchain_community.document_loaders import PyPDFLoader\n",
    "# 读取csv，返回list\n",
    "def load_csv(path):\n",
    "    # 每条记录为一个元素\n",
    "    loader = CSVLoader(\n",
    "        file_path=path,\n",
    "        encoding='utf-8' # 编码\n",
    "    )\n",
    "    data = loader.load()\n",
    "    return data \n",
    "# 读取pdf，返回list\n",
    "def load_pdf(path):\n",
    "    # 是以每页为一个元素的\n",
    "    loader = PyPDFLoader(path)\n",
    "    pages = loader.load_and_split()\n",
    "    return pages"
   ]
  },
  {
   "cell_type": "markdown",
   "id": "5d7f19b3-02a4-4e4a-92c2-1e0a69e19cab",
   "metadata": {},
   "source": [
    "# 数据切片\n"
   ]
  },
  {
   "cell_type": "code",
   "execution_count": 4,
   "id": "1f6c04d3-fc75-420d-b60c-b3bc50e7446f",
   "metadata": {},
   "outputs": [],
   "source": [
    "loader = TextLoader(\"/home/workspace_langchain/rag/内科.txt\", encoding='utf-8')\n",
    "documents = loader.load()"
   ]
  },
  {
   "cell_type": "code",
   "execution_count": null,
   "id": "3a571801-177c-4ee8-9c6b-02ccc7707041",
   "metadata": {},
   "outputs": [],
   "source": [
    "# 切分txt\n",
    "from langchain.text_splitter import CharacterTextSplitter\n",
    "\n",
    "text_splitter = CharacterTextSplitter(chunk_size=100, chunk_overlap=10,separator=\"，\")\n",
    "\n",
    "chunks1 = text_splitter.split_documents(documents)"
   ]
  },
  {
   "cell_type": "code",
   "execution_count": 10,
   "id": "a51a5369-a76e-4737-88bf-b4f47966ea03",
   "metadata": {},
   "outputs": [
    {
     "data": {
      "text/plain": [
       "9492"
      ]
     },
     "execution_count": 10,
     "metadata": {},
     "output_type": "execute_result"
    }
   ],
   "source": [
    "len(chunks1)"
   ]
  },
  {
   "cell_type": "code",
   "execution_count": 4,
   "id": "9a41448e-73cd-40f4-9fb6-b7934811d528",
   "metadata": {},
   "outputs": [
    {
     "data": {
      "text/plain": [
       "10581"
      ]
     },
     "execution_count": 4,
     "metadata": {},
     "output_type": "execute_result"
    }
   ],
   "source": [
    "# 切分不同的文本\n",
    "from langchain_text_splitters import RecursiveCharacterTextSplitter\n",
    "\n",
    "\n",
    "text_splitter = RecursiveCharacterTextSplitter(\n",
    "    chunk_size=100, # 指定每个文本块的目标大小，这里设置为200个字符。\n",
    "    chunk_overlap=10, # 指定文本块之间的重叠字符数，这里设置为50个字符。\n",
    "    length_function=len, # 用于测量文本长度的函数，这里使用Python内置的`len`函数。\n",
    "    is_separator_regex=False, # 指定`separators`中的分隔符是否应被视为正则表达式，这里设置为False，表示分隔符是字面字符。\n",
    "    separators=[\"\\n\\n\",  \"\\n\",   \" \",    \".\",    \",\",     \"，\",  \"。\", ] # 定义用于分割文本的分隔符列表。csv不用这行\n",
    ")\n",
    "\n",
    "pages = load_pdf(\"/home/workspace_langchain/Gong/data/深度学习.pdf\")\n",
    "\n",
    "chunks2 = text_splitter.split_documents(pages)\n",
    "len(chunks2)"
   ]
  },
  {
   "cell_type": "code",
   "execution_count": 7,
   "id": "17f148fd-b683-4272-92e7-d192a8668da1",
   "metadata": {},
   "outputs": [
    {
     "data": {
      "text/plain": [
       "20073"
      ]
     },
     "execution_count": 7,
     "metadata": {},
     "output_type": "execute_result"
    }
   ],
   "source": [
    "# 合并 chunks1 和 chunks2\n",
    "chunks = []\n",
    "chunks.extend(chunks1)\n",
    "chunks.extend(chunks2)\n",
    "len(chunks)"
   ]
  },
  {
   "cell_type": "markdown",
   "id": "6ac657d6-b8f3-4240-b236-ce479b72a91a",
   "metadata": {},
   "source": [
    "# 将数据存入向量数据库中"
   ]
  },
  {
   "cell_type": "code",
   "execution_count": null,
   "id": "30f11118-4835-49b5-98e1-8d5dab7ee65c",
   "metadata": {},
   "outputs": [],
   "source": [
    "# 嵌入和存储这些小块\n",
    "from langchain.embeddings import HuggingFaceEmbeddings\n",
    "from langchain.vectorstores import Weaviate\n",
    "import weaviate\n",
    "from weaviate.embedded import EmbeddedOptions\n",
    "\n",
    "client = weaviate.Client(\n",
    "  embedded_options = EmbeddedOptions()\n",
    ")\n",
    "\n",
    "vectorstore = Weaviate.from_documents(\n",
    "    client = client,    \n",
    "    documents = chunks2,\n",
    "    # 本地加载\n",
    "    embedding = HuggingFaceEmbeddings(model_name='/home/workspace_langchain/text2vec-base-chinese'),#注意加载的问题\n",
    "    by_text = False\n",
    ")\n"
   ]
  },
  {
   "cell_type": "markdown",
   "id": "8053aaa8-0d43-43fd-8176-9db8c7575eb0",
   "metadata": {},
   "source": [
    "# 进行增强检索"
   ]
  },
  {
   "cell_type": "code",
   "execution_count": 53,
   "id": "6a0d2976-7bb2-4455-a899-e10fb2267b06",
   "metadata": {},
   "outputs": [],
   "source": [
    "# 步骤1——检索\n",
    "retriever = vectorstore.as_retriever()"
   ]
  },
  {
   "cell_type": "code",
   "execution_count": 3,
   "id": "8b2b1091-eb5a-4540-a34b-8eb22abf1ad9",
   "metadata": {},
   "outputs": [
    {
     "name": "stdout",
     "output_type": "stream",
     "text": [
      "input_variables=['context', 'question'] messages=[HumanMessagePromptTemplate(prompt=PromptTemplate(input_variables=['context', 'question'], template='你是一个用于回答问题的助手。使用以下检索到的Context来回答问题。如果你不知道答案，就说你不知道。使用最多三个句子并保持回答简洁。\\n如果是学术知识，给出答案所在page和相关内容。如果是关于医疗知识，给出科室地址和相关诊断。如果Context和问题无关，则忽略Context内容。\\n\\nQuestion: {question}\\n\\n\\nContext: {context}\\n\\nAnswer:\\n'))]\n"
     ]
    }
   ],
   "source": [
    "# 步骤2——增强\n",
    "from langchain.prompts import ChatPromptTemplate\n",
    "\n",
    "template = \"\"\"你是一个用于回答问题的助手。使用以下检索到的Context来回答问题。如果你不知道答案，就说你不知道。使用最多三个句子并保持回答简洁。\n",
    "如果是学术知识，给出答案所在page和相关内容。如果是关于医疗知识，给出科室地址和相关诊断。如果Context和问题无关，则忽略Context内容。\n",
    "\n",
    "Question: {question}\n",
    "\n",
    "\n",
    "Context: {context}\n",
    "\n",
    "Answer:\n",
    "\"\"\"\n",
    "prompt = ChatPromptTemplate.from_template(template)\n",
    "\n",
    "print(prompt)"
   ]
  },
  {
   "cell_type": "markdown",
   "id": "9ae69a85-72e6-42a7-96fc-18f65ae7cb90",
   "metadata": {},
   "source": [
    "# 进行搜索"
   ]
  },
  {
   "cell_type": "code",
   "execution_count": null,
   "id": "198f8d4b-6cd9-4275-b068-2f524af2f9c3",
   "metadata": {},
   "outputs": [],
   "source": [
    "rag_chain = (\n",
    "    {\"context\": retriever,  \"question\": RunnablePassthrough()} \n",
    "    | prompt \n",
    "    | llm\n",
    "    | StrOutputParser() \n",
    ")\n",
    "\n",
    "query = \"神经网络的好处\"\n",
    "\n",
    "rag_chain.invoke(query)"
   ]
  },
  {
   "cell_type": "code",
   "execution_count": null,
   "id": "eae877c4-ffb1-4f4d-b3eb-dfab1ab1bba0",
   "metadata": {},
   "outputs": [],
   "source": []
  }
 ],
 "metadata": {
  "kernelspec": {
   "display_name": "Python 3 (ipykernel)",
   "language": "python",
   "name": "python3"
  },
  "language_info": {
   "codemirror_mode": {
    "name": "ipython",
    "version": 3
   },
   "file_extension": ".py",
   "mimetype": "text/x-python",
   "name": "python",
   "nbconvert_exporter": "python",
   "pygments_lexer": "ipython3",
   "version": "3.8.10"
  }
 },
 "nbformat": 4,
 "nbformat_minor": 5
}
