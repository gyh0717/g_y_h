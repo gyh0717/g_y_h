{
 "cells": [
  {
   "cell_type": "code",
   "execution_count": 1,
   "id": "f307badb-c707-4938-9129-710823fdef18",
   "metadata": {},
   "outputs": [
    {
     "name": "stdin",
     "output_type": "stream",
     "text": [
      "The repository for /home/workspace_langchain/medical-chatbot-main/medical-chatbot contains custom code which must be executed to correctly load the model. You can inspect the repository content at https://hf.co//home/workspace_langchain/medical-chatbot-main/medical-chatbot.\n",
      "You can avoid this prompt in future by passing the argument `trust_remote_code=True`.\n",
      "\n",
      "Do you wish to run the custom code? [y/N]  y\n",
      "The repository for /home/workspace_langchain/medical-chatbot-main/medical-chatbot contains custom code which must be executed to correctly load the model. You can inspect the repository content at https://hf.co//home/workspace_langchain/medical-chatbot-main/medical-chatbot.\n",
      "You can avoid this prompt in future by passing the argument `trust_remote_code=True`.\n",
      "\n",
      "Do you wish to run the custom code? [y/N]  y\n"
     ]
    },
    {
     "name": "stderr",
     "output_type": "stream",
     "text": [
      "The `load_in_4bit` and `load_in_8bit` arguments are deprecated and will be removed in the future versions. Please, pass a `BitsAndBytesConfig` object in `quantization_config` argument instead.\n"
     ]
    },
    {
     "data": {
      "application/vnd.jupyter.widget-view+json": {
       "model_id": "2f0d6b68cf3740f7b7c56c81cc2a3833",
       "version_major": 2,
       "version_minor": 0
      },
      "text/plain": [
       "Loading checkpoint shards:   0%|          | 0/15 [00:00<?, ?it/s]"
      ]
     },
     "metadata": {},
     "output_type": "display_data"
    },
    {
     "name": "stderr",
     "output_type": "stream",
     "text": [
      "The model 'ChatGLMForConditionalGeneration' is not supported for text-generation. Supported models are ['BartForCausalLM', 'BertLMHeadModel', 'BertGenerationDecoder', 'BigBirdForCausalLM', 'BigBirdPegasusForCausalLM', 'BioGptForCausalLM', 'BlenderbotForCausalLM', 'BlenderbotSmallForCausalLM', 'BloomForCausalLM', 'CamembertForCausalLM', 'LlamaForCausalLM', 'CodeGenForCausalLM', 'CohereForCausalLM', 'CpmAntForCausalLM', 'CTRLLMHeadModel', 'Data2VecTextForCausalLM', 'DbrxForCausalLM', 'ElectraForCausalLM', 'ErnieForCausalLM', 'FalconForCausalLM', 'FuyuForCausalLM', 'GemmaForCausalLM', 'GitForCausalLM', 'GPT2LMHeadModel', 'GPT2LMHeadModel', 'GPTBigCodeForCausalLM', 'GPTNeoForCausalLM', 'GPTNeoXForCausalLM', 'GPTNeoXJapaneseForCausalLM', 'GPTJForCausalLM', 'JambaForCausalLM', 'JetMoeForCausalLM', 'LlamaForCausalLM', 'MambaForCausalLM', 'MarianForCausalLM', 'MBartForCausalLM', 'MegaForCausalLM', 'MegatronBertForCausalLM', 'MistralForCausalLM', 'MixtralForCausalLM', 'MptForCausalLM', 'MusicgenForCausalLM', 'MusicgenMelodyForCausalLM', 'MvpForCausalLM', 'OlmoForCausalLM', 'OpenLlamaForCausalLM', 'OpenAIGPTLMHeadModel', 'OPTForCausalLM', 'PegasusForCausalLM', 'PersimmonForCausalLM', 'PhiForCausalLM', 'Phi3ForCausalLM', 'PLBartForCausalLM', 'ProphetNetForCausalLM', 'QDQBertLMHeadModel', 'Qwen2ForCausalLM', 'Qwen2MoeForCausalLM', 'RecurrentGemmaForCausalLM', 'ReformerModelWithLMHead', 'RemBertForCausalLM', 'RobertaForCausalLM', 'RobertaPreLayerNormForCausalLM', 'RoCBertForCausalLM', 'RoFormerForCausalLM', 'RwkvForCausalLM', 'Speech2Text2ForCausalLM', 'StableLmForCausalLM', 'Starcoder2ForCausalLM', 'TransfoXLLMHeadModel', 'TrOCRForCausalLM', 'WhisperForCausalLM', 'XGLMForCausalLM', 'XLMWithLMHeadModel', 'XLMProphetNetForCausalLM', 'XLMRobertaForCausalLM', 'XLMRobertaXLForCausalLM', 'XLNetLMHeadModel', 'XmodForCausalLM'].\n",
      "/usr/local/lib/python3.8/dist-packages/langchain_core/_api/deprecation.py:119: LangChainDeprecationWarning: The class `HuggingFacePipeline` was deprecated in LangChain 0.0.37 and will be removed in 0.3. An updated version of the class exists in the from rom langchain-huggingface package and should be used instead. To use it run `pip install -U from rom langchain-huggingface` and import as `from from rom langchain_huggingface import llms import HuggingFacePipeline`.\n",
      "  warn_deprecated(\n",
      "/usr/local/lib/python3.8/dist-packages/langchain_core/_api/deprecation.py:119: LangChainDeprecationWarning: The class `LLMChain` was deprecated in LangChain 0.1.17 and will be removed in 0.3.0. Use RunnableSequence, e.g., `prompt | llm` instead.\n",
      "  warn_deprecated(\n"
     ]
    },
    {
     "name": "stdin",
     "output_type": "stream",
     "text": [
      "请输入信息（输入 'exit' 退出程序）： exit\n"
     ]
    },
    {
     "name": "stdout",
     "output_type": "stream",
     "text": [
      "退出程序。\n"
     ]
    }
   ],
   "source": [
    "from transformers import AutoTokenizer, AutoModelForCausalLM, pipeline\n",
    "from langchain import LLMChain,HuggingFacePipeline,PromptTemplate\n",
    "import torch\n",
    "#pip install bitsandbytes\n",
    "#pip install accelerate\n",
    "# install -i https://pypi.org/simple/ --upgrade bitsandbytes\n",
    "\n",
    "model_path = \"/home/workspace_langchain/medical-chatbot-main/medical-chatbot\"\n",
    "# load model from huggingface，load因果语言类大模型的时候就用这个函数 AutoModelForCausalLM\n",
    "model = AutoModelForCausalLM.from_pretrained(\n",
    "        model_path,\n",
    "        load_in_4bit=True,\n",
    "        torch_dtype=torch.float16,\n",
    "        device_map='auto'\n",
    ")\n",
    "\n",
    "tokenizer = AutoTokenizer.from_pretrained(model_path, trust_remote_code=True)\n",
    "\n",
    "from transformers import pipeline\n",
    "\n",
    "# 构建 transformer 的 pipeline\n",
    "pipe = pipeline(\n",
    "    \"text-generation\",  # 名称\n",
    "    model=model,  # 模型\n",
    "    torch_dtype=torch.bfloat16,  # 模型加载方式\n",
    "    device_map='auto',\n",
    "    max_new_tokens=512,  # 最大token\n",
    "    do_sample=True,\n",
    "    top_k=30,\n",
    "    num_return_sequences=1,\n",
    "    tokenizer=tokenizer,\n",
    "    eos_token_id=tokenizer.eos_token_id\n",
    ")\n",
    "\n",
    "llm = HuggingFacePipeline(pipeline=pipe, model_kwargs={'temperature': 0})\n",
    "# system_prompt = \"你是一个智能助手，对于用户提出的问题，你可以简洁又专业的给出回答。当用户对你打招呼，或者问你的身份问题，或者让你做自我介绍时，都要回答如下：我是来自xx的智能助手，我是由xx工程师开发的。\"\n",
    "# instruction = \"回答如下问题:\\n\\n {text}\"\n",
    "template = '''\n",
    " #system_prompt#\n",
    " 你是一个现在你是一名专业的中医医生，请用你的专业知识提供详尽而清晰的关于中医问题的回答，对于用户提出的问题，你可以简洁又专业的给出回答。当用户对你打招呼，或者问你的身份问题，或者让你做自我介绍时，都要回答如下：我是来自西普科技的智能医生。\n",
    "# instruction#\n",
    "回答如下问题:\\n\\n {text}\n",
    "'''\n",
    "#print(template)\n",
    "\n",
    "def parse_text(output):\n",
    "    # 这里可以添加你的解析逻辑\n",
    "    print(\"解析输出结果：\", output)\n",
    "\n",
    "# 创建 PromptTemplate 和 LLMChain 实例\n",
    "prompt = PromptTemplate(template=template, input_variables=[\"text\"])\n",
    "llm_chain = LLMChain(prompt=prompt, llm=llm)\n",
    "\n",
    "# 提供输入文本\n",
    "\n",
    "while True:\n",
    "    user_input = input(\"请输入信息（输入 'exit' 退出程序）：\")\n",
    "    if user_input.lower() == 'exit':\n",
    "        print(\"退出程序。\")\n",
    "        break\n",
    "    else:\n",
    "        print(\"USER:\" + user_input)\n",
    "        output = llm_chain.run(user_input)\n",
    "        parse_text(output)\n",
    "\n",
    "# 运行 LLMChain 并获取输出结果"
   ]
  },
  {
   "cell_type": "code",
   "execution_count": null,
   "id": "fcf5690a-d565-47e8-bda4-3e741f6c1a8a",
   "metadata": {},
   "outputs": [],
   "source": []
  }
 ],
 "metadata": {
  "kernelspec": {
   "display_name": "Python 3 (ipykernel)",
   "language": "python",
   "name": "python3"
  },
  "language_info": {
   "codemirror_mode": {
    "name": "ipython",
    "version": 3
   },
   "file_extension": ".py",
   "mimetype": "text/x-python",
   "name": "python",
   "nbconvert_exporter": "python",
   "pygments_lexer": "ipython3",
   "version": "3.8.10"
  }
 },
 "nbformat": 4,
 "nbformat_minor": 5
}
